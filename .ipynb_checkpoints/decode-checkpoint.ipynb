{
 "cells": [
  {
   "cell_type": "code",
   "execution_count": 2,
   "id": "e629dd35",
   "metadata": {},
   "outputs": [],
   "source": [
    "import optparse\n",
    "import sys\n",
    "import models\n",
    "from collections import namedtuple\n",
    "import math\n",
    "\n",
    "import functools as fs\n",
    "\n",
    "def mapping(sequence):\n",
    "   \"\"\" Generate a coverage bitmap for a sequence of indexes \"\"\"\n",
    "   return fs.reduce(lambda x,y: x|y, map(lambda i: int('1'+'0'*i,2), sequence), 0)\n",
    "\n",
    "def tostring(b, n, on='o', off='.'):\n",
    "   \"\"\" Generate a length-n string representation of bitmap b \"\"\"\n",
    "   return '' if n==0 else (on if b&1==1 else off) + tostring(b>>1, n-1, on, off)"
   ]
  },
  {
   "cell_type": "code",
   "execution_count": null,
   "id": "181fd83a",
   "metadata": {},
   "outputs": [],
   "source": [
    "optparser = optparse.OptionParser()\n",
    "optparser.add_option(\"-i\", \"--input\", dest=\"input\", default=\"data/input\", help=\"File containing sentences to translate (default=data/input)\")\n",
    "optparser.add_option(\"-t\", \"--translation-model\", dest=\"tm\", default=\"data/tm\", help=\"File containing translation model (default=data/tm)\")\n",
    "optparser.add_option(\"-l\", \"--language-model\", dest=\"lm\", default=\"data/lm\", help=\"File containing ARPA-format language model (default=data/lm)\")\n",
    "optparser.add_option(\"-n\", \"--num_sentences\", dest=\"num_sents\", default=sys.maxsize, type=\"int\", help=\"Number of sentences to decode (default=no limit)\")\n",
    "optparser.add_option(\"-k\", \"--translations-per-phrase\", dest=\"k\", default=1, type=\"int\", help=\"Limit on number of translations to consider per phrase (default=1)\")\n",
    "optparser.add_option(\"-s\", \"--stack-size\", dest=\"s\", default=1, type=\"int\", help=\"Maximum stack size (default=1)\")\n",
    "optparser.add_option(\"-v\", \"--verbose\", dest=\"verbose\", action=\"store_true\", default=False,  help=\"Verbose mode (default=off)\")\n",
    "optparser.add_option(\"-r\", \"--reordering-limit\", dest=\"rl\", default=sys.maxsize, type=int, help=\"Reordering limit (default=no limit\")\n",
    "opts = optparser.parse_args()[0]"
   ]
  }
 ],
 "metadata": {
  "kernelspec": {
   "display_name": "Python 3 (ipykernel)",
   "language": "python",
   "name": "python3"
  },
  "language_info": {
   "codemirror_mode": {
    "name": "ipython",
    "version": 3
   },
   "file_extension": ".py",
   "mimetype": "text/x-python",
   "name": "python",
   "nbconvert_exporter": "python",
   "pygments_lexer": "ipython3",
   "version": "3.9.7"
  }
 },
 "nbformat": 4,
 "nbformat_minor": 5
}
